{
 "cells": [
  {
   "cell_type": "code",
   "execution_count": 7,
   "metadata": {
    "collapsed": false,
    "deletable": true,
    "editable": true
   },
   "outputs": [],
   "source": [
    "# %matplotlib inline\n",
    "import matplotlib.pyplot as plt\n",
    "import pandas as pd\n",
    "import seaborn as sns\n",
    "import requests\n",
    "import re\n",
    "\n",
    "from matplotlib.patches import Circle, Rectangle, Arc"
   ]
  },
  {
   "cell_type": "code",
   "execution_count": 8,
   "metadata": {
    "collapsed": false,
    "deletable": true,
    "editable": true
   },
   "outputs": [],
   "source": [
    "###\n",
    "# VARIABLE INPUTS IN THIS CELL:\n",
    "\n",
    "# Text data inputs:\n",
    "# NOTE: Use '*' to select all:\n",
    "date = \"1/6/2018\"          # m/d/yyyy format\n",
    "team = \"Penn\"\n",
    "opponent = \"*\"\n",
    "\n",
    "# Number data inputs:\n",
    "# NOTE: Use '-1' to select all:\n",
    "playerID = -1        # jersey number\n",
    "half = -1          # OT1 = half 3, OT2 = half 4, ...\n",
    "time_max = -1      # mmss format, max time remaining in selected half(s)\n",
    "distance_min = -1  # min shot distance in feet\n",
    "distance_max = -1  # max shot distance in feet\n",
    "\n",
    "# Image inputs:\n",
    "label = \"Penn\"  # team or player name (for graph label)\n",
    "title = \"Penn shooting vs Princeton\"  # chart title\n",
    "output = 'imgs/example.jpg'  # output file\n",
    "\n",
    "###"
   ]
  },
  {
   "cell_type": "code",
   "execution_count": 9,
   "metadata": {
    "collapsed": true,
    "deletable": true,
    "editable": true
   },
   "outputs": [],
   "source": [
    "# setup dicts:\n",
    "make_colors = {'Brown': '#734d26', 'Columbia':'#3366ff', 'Cornell': '#ff0000', 'Dartmouth': '#336600', 'Harvard':'#990000', 'Penn':'#990000', 'Princeton':'#cc6600', 'Yale':'#000099', '*':'#336600'}\n",
    "foul_colors = {'Brown': '#d2a679', 'Columbia':'#99ccff', 'Cornell': '#ff9999', 'Dartmouth': '#bbff33', 'Harvard':'#ff8080', 'Penn':'#ff8080', 'Princeton':'#ffcc99', 'Yale':'#8080ff', '*':'#bbff33'}"
   ]
  },
  {
   "cell_type": "code",
   "execution_count": 10,
   "metadata": {
    "collapsed": true,
    "deletable": true,
    "editable": true
   },
   "outputs": [],
   "source": [
    "# static parameters:\n",
    "file_path = \"ivyshots_2018_selected.csv\"\n",
    "make_color = make_colors[team]\n",
    "foul_color = foul_colors[team]"
   ]
  },
  {
   "cell_type": "code",
   "execution_count": 11,
   "metadata": {
    "collapsed": false,
    "deletable": true,
    "editable": true
   },
   "outputs": [],
   "source": [
    "def get_shot_data(path):\n",
    "    #path = \"temp_file_2.csv\"\n",
    "    #r = requests.get(url)\n",
    "    #text = r.text\n",
    "    #shot_data = re.findall(shot_data_pattern, text)[0]\n",
    "    #with open(path, \"w+\") as f:\n",
    "    #    f.write(shot_data.replace(\"~\", \"\\n\"))\n",
    "    shot_data_df = pd.read_csv(path, header=0, index_col=None)\n",
    "    #shot_data_df.rename(columns={0: \"homeAway\", \n",
    "     #                            1: \"timeRemaining\", \n",
    "      #                           2: \"half\", \n",
    "    #                             3: \"playerID\", \n",
    "    #                             4: \"shotType\", \n",
    "     #                            5: \"makeMiss\",\n",
    "      #                           6: \"x\",\n",
    "       #                          7: \"y\", \n",
    "        #                         8: \"distance\"}, inplace=True)\n",
    "    return shot_data_df"
   ]
  },
  {
   "cell_type": "code",
   "execution_count": 12,
   "metadata": {
    "collapsed": false,
    "deletable": true,
    "editable": true
   },
   "outputs": [],
   "source": [
    "def draw_court(ax=None, color='black', lw=2, outer_lines=False):\n",
    "    # If an axes object isn't provided to plot onto, just get current one\n",
    "    if ax is None:\n",
    "        ax = plt.gca()\n",
    "\n",
    "    # Create the various parts of an NBA basketball court\n",
    "\n",
    "    # Create the basketball hoop\n",
    "    hoop = Circle((0, 0), radius=0.75, linewidth=lw, color=color, fill=False, alpha=0.75)\n",
    "\n",
    "    # The paint\n",
    "    # Create the outer box 0f the paint, width=16ft, height=19ft\n",
    "    # outer_box = Rectangle((-8, -4), 16, 18, linewidth=lw, color=color,\n",
    "    #                       fill=False)\n",
    "    # Create the inner box of the paint, widt=12ft, height=19ft\n",
    "    inner_box = Rectangle((-6, -4), 12, 18, linewidth=lw, color=color,\n",
    "                          fill=False, alpha=0.75)\n",
    "\n",
    "    # Create free throw top arc\n",
    "    top_free_throw = Arc((0, 14), 12, 12, theta1=0, theta2=180,\n",
    "                         linewidth=lw, color=color, fill=False, linestyle='solid', alpha=0.75)\n",
    "    # Create free throw bottom arc\n",
    "    # bottom_free_throw = Arc((0, 14), 12, 12, theta1=180, theta2=0,\n",
    "    #                         linewidth=lw, color=color, linestyle='dashed')\n",
    "    # Restricted Zone, it is an arc with 4ft radius from center of the hoop\n",
    "    restricted = Arc((0, 0), 8, 8, theta1=0, theta2=180, linewidth=lw,\n",
    "                     color=color, linestyle='dashed', alpha=0.75)\n",
    "\n",
    "    # 3pt arc - center of arc will be the hoop, arc is 20'9\" away from hoop\n",
    "    three_arc = Arc((0, 0), 41.2, 41.2, theta1=0, theta2=180, linewidth=lw,\n",
    "                    color=color, alpha=0.75)\n",
    "    \n",
    "    # 3pt sideline\n",
    "    three_left = Rectangle((-20.6, -4), 0, 4.25, linewidth=lw, \n",
    "                           color=color, fill=False, alpha=0.75)\n",
    "\n",
    "    three_right = Rectangle((20.6, -4), 0, 4.25, linewidth=lw, \n",
    "                           color=color, fill=False, alpha=0.75)\n",
    "\n",
    "    # Center Court\n",
    "    center_outer_arc = Arc((0, 43), 12, 12, theta1=18, theta2=0,\n",
    "                           linewidth=lw, color=color, alpha=0.75)\n",
    "    center_inner_arc = Arc((0, 43), 4, 4, theta1=1.8, theta2=0,\n",
    "                           linewidth=lw, color=color, alpha=0.75)\n",
    "\n",
    "    # List of the court elements to be plotted onto the axes\n",
    "    #court_elements = [hoop, outer_box, inner_box, \n",
    "    #                  three_arc, top_free_throw, bottom_free_throw, \n",
    "    #                  restricted, center_outer_arc, center_inner_arc, three_right, three_left]\n",
    "    court_elements = [hoop, inner_box, \n",
    "                      three_arc, top_free_throw, \n",
    "                      restricted, center_outer_arc, center_inner_arc, three_right, three_left]\n",
    "\n",
    "    if outer_lines:\n",
    "        # Draw the half court line, baseline and side out bound lines\n",
    "        outer_lines = Rectangle((-25, -4), 50, 47, linewidth=lw,\n",
    "                                color=color, fill=False)\n",
    "        court_elements.append(outer_lines)\n",
    "\n",
    "    # Add the court elements onto the axes\n",
    "    for element in court_elements:\n",
    "        ax.add_patch(element)\n",
    "\n",
    "    ax.set_axis_bgcolor('white')\n",
    "    \n",
    "    return ax"
   ]
  },
  {
   "cell_type": "code",
   "execution_count": 13,
   "metadata": {
    "collapsed": false,
    "deletable": true,
    "editable": true
   },
   "outputs": [],
   "source": [
    "shots_df = get_shot_data(file_path)\n",
    "\n",
    "\n",
    "# filter based on inputs:\n",
    "if date <> \"*\":\n",
    "    shots_df = shots_df[shots_df['Date'] == date]\n",
    "\n",
    "if team <> \"*\":\n",
    "    shots_df = shots_df[shots_df['Team'] == team]\n",
    "    \n",
    "if opponent <> \"*\":\n",
    "    shots_df = shots_df[shots_df['Opponent'] == opponent]\n",
    "\n",
    "\n",
    "if playerID >= 0:\n",
    "    shots_df = shots_df[shots_df['playerID'] == playerID]\n",
    "\n",
    "if half > 0:\n",
    "    shots_df = shots_df[shots_df['half'] == half]\n",
    "\n",
    "if time_max > 0:\n",
    "    shots_df = shots_df[shots_df['timeRemaining'] <= time_max]\n",
    "\n",
    "if distance_min > -1:\n",
    "    shots_df = shots_df[shots_df['distance'] >= distance_min]\n",
    "\n",
    "if distance_max > -1:\n",
    "    shots_df = shots_df[shots_df['distance'] <= distance_max]\n"
   ]
  },
  {
   "cell_type": "code",
   "execution_count": 14,
   "metadata": {
    "collapsed": false,
    "deletable": true,
    "editable": true
   },
   "outputs": [],
   "source": [
    "makes = shots_df[(shots_df[\"makeMiss\"] == 1)]\n",
    "misses = shots_df[(shots_df[\"makeMiss\"] == 0)]\n",
    "fouls = shots_df[(shots_df[\"makeMiss\"] == 2)]"
   ]
  },
  {
   "cell_type": "code",
   "execution_count": 15,
   "metadata": {
    "collapsed": false,
    "deletable": true,
    "editable": true
   },
   "outputs": [
    {
     "name": "stderr",
     "output_type": "stream",
     "text": [
      "C:\\Users\\Whitaker Kevin\\AppData\\Local\\Enthought\\Canopy\\edm\\envs\\User\\lib\\site-packages\\ipykernel\\__main__.py:64: MatplotlibDeprecationWarning: The set_axis_bgcolor function was deprecated in version 2.0. Use set_facecolor instead.\n"
     ]
    },
    {
     "data": {
      "image/png": "[encoded data removed]",
      "text/plain": [
       "<matplotlib.figure.Figure at 0xc188198>"
      ]
     },
     "metadata": {},
     "output_type": "display_data"
    }
   ],
   "source": [
    "plt.figure(figsize=(8,7))\n",
    "draw_court(outer_lines=True)\n",
    "\n",
    "plt.scatter(makes.x, makes.y, s=70, color=make_color, alpha=0.5, marker=\"o\", label=label+\" Makes\")\n",
    "plt.scatter(misses.x, misses.y, s=70, color=\"black\", alpha=0.5, marker=\"x\", label=label+\" Misses\", linewidths=1)\n",
    "plt.scatter(fouls.x, fouls.y, s=70, color=foul_color, alpha=0.5, marker=\"o\", label=label+\" FTs Drawn\")\n",
    "\n",
    "# Descending values along the axis from left to right\n",
    "plt.xlim(-25,25)\n",
    "plt.ylim(-4,43)\n",
    "plt.legend(fontsize=12)\n",
    "plt.title(title, fontsize=16)\n",
    "plt.tick_params(axis='both', which='both', bottom='off', top='off', labelbottom='off', right='off', left='off', labelleft='off')\n",
    "plt.savefig(output)\n",
    "plt.show()"
   ]
  },
  {
   "cell_type": "code",
   "execution_count": null,
   "metadata": {
    "collapsed": true,
    "deletable": true,
    "editable": true
   },
   "outputs": [],
   "source": []
  },
  {
   "cell_type": "code",
   "execution_count": 17,
   "metadata": {
    "collapsed": false,
    "deletable": true,
    "editable": true
   },
   "outputs": [
    {
     "data": {
      "text/html": [
       "<div>\n",
       "<table border=\"1\" class=\"dataframe\">\n",
       "  <thead>\n",
       "    <tr style=\"text-align: right;\">\n",
       "      <th></th>\n",
       "      <th>Date</th>\n",
       "      <th>half</th>\n",
       "      <th>Team</th>\n",
       "      <th>Opponent</th>\n",
       "      <th>timeRemaining</th>\n",
       "      <th>playerID</th>\n",
       "      <th>makeMiss</th>\n",
       "      <th>xint</th>\n",
       "      <th>yint</th>\n",
       "      <th>distance</th>\n",
       "      <th>x</th>\n",
       "      <th>y</th>\n",
       "    </tr>\n",
       "  </thead>\n",
       "  <tbody>\n",
       "    <tr>\n",
       "      <th>0</th>\n",
       "      <td>1/6/2018</td>\n",
       "      <td>1</td>\n",
       "      <td>Penn</td>\n",
       "      <td>Princeton</td>\n",
       "      <td>1940</td>\n",
       "      <td>21</td>\n",
       "      <td>0</td>\n",
       "      <td>4</td>\n",
       "      <td>4</td>\n",
       "      <td>5.7</td>\n",
       "      <td>4.114585</td>\n",
       "      <td>4.414236</td>\n",
       "    </tr>\n",
       "    <tr>\n",
       "      <th>1</th>\n",
       "      <td>1/6/2018</td>\n",
       "      <td>1</td>\n",
       "      <td>Penn</td>\n",
       "      <td>Princeton</td>\n",
       "      <td>1935</td>\n",
       "      <td>0</td>\n",
       "      <td>0</td>\n",
       "      <td>4</td>\n",
       "      <td>2</td>\n",
       "      <td>4.5</td>\n",
       "      <td>4.167712</td>\n",
       "      <td>2.024698</td>\n",
       "    </tr>\n",
       "    <tr>\n",
       "      <th>3</th>\n",
       "      <td>1/6/2018</td>\n",
       "      <td>1</td>\n",
       "      <td>Penn</td>\n",
       "      <td>Princeton</td>\n",
       "      <td>1949</td>\n",
       "      <td>4</td>\n",
       "      <td>0</td>\n",
       "      <td>0</td>\n",
       "      <td>9</td>\n",
       "      <td>9.0</td>\n",
       "      <td>-0.250001</td>\n",
       "      <td>8.630271</td>\n",
       "    </tr>\n",
       "    <tr>\n",
       "      <th>5</th>\n",
       "      <td>1/6/2018</td>\n",
       "      <td>1</td>\n",
       "      <td>Penn</td>\n",
       "      <td>Princeton</td>\n",
       "      <td>1808</td>\n",
       "      <td>2</td>\n",
       "      <td>0</td>\n",
       "      <td>3</td>\n",
       "      <td>24</td>\n",
       "      <td>24.2</td>\n",
       "      <td>3.085790</td>\n",
       "      <td>23.868768</td>\n",
       "    </tr>\n",
       "    <tr>\n",
       "      <th>7</th>\n",
       "      <td>1/6/2018</td>\n",
       "      <td>1</td>\n",
       "      <td>Penn</td>\n",
       "      <td>Princeton</td>\n",
       "      <td>1718</td>\n",
       "      <td>2</td>\n",
       "      <td>2</td>\n",
       "      <td>5</td>\n",
       "      <td>5</td>\n",
       "      <td>7.1</td>\n",
       "      <td>4.964096</td>\n",
       "      <td>4.630370</td>\n",
       "    </tr>\n",
       "  </tbody>\n",
       "</table>\n",
       "</div>"
      ],
      "text/plain": [
       "       Date  half  Team   Opponent  timeRemaining  playerID  makeMiss  xint  \\\n",
       "0  1/6/2018     1  Penn  Princeton           1940        21         0     4   \n",
       "1  1/6/2018     1  Penn  Princeton           1935         0         0     4   \n",
       "3  1/6/2018     1  Penn  Princeton           1949         4         0     0   \n",
       "5  1/6/2018     1  Penn  Princeton           1808         2         0     3   \n",
       "7  1/6/2018     1  Penn  Princeton           1718         2         2     5   \n",
       "\n",
       "   yint  distance         x          y  \n",
       "0     4       5.7  4.114585   4.414236  \n",
       "1     2       4.5  4.167712   2.024698  \n",
       "3     9       9.0 -0.250001   8.630271  \n",
       "5    24      24.2  3.085790  23.868768  \n",
       "7     5       7.1  4.964096   4.630370  "
      ]
     },
     "execution_count": 17,
     "metadata": {},
     "output_type": "execute_result"
    }
   ],
   "source": [
    "shots_df.head()   # for inspection"
   ]
  },
  {
   "cell_type": "code",
   "execution_count": null,
   "metadata": {
    "collapsed": true
   },
   "outputs": [],
   "source": []
  }
 ],
 "metadata": {
  "kernelspec": {
   "display_name": "Python 2",
   "language": "python",
   "name": "python2"
  },
  "language_info": {
   "codemirror_mode": {
    "name": "ipython",
    "version": 2
   },
   "file_extension": ".py",
   "mimetype": "text/x-python",
   "name": "python",
   "nbconvert_exporter": "python",
   "pygments_lexer": "ipython2",
   "version": "2.7.13"
  }
 },
 "nbformat": 4,
 "nbformat_minor": 0
}
